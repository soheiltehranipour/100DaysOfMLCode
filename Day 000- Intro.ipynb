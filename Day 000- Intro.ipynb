{
 "cells": [
  {
   "cell_type": "markdown",
   "metadata": {},
   "source": [
    "<img src=\"http://iran-datascience.ir/SoheilTP/logo.jpg\" />"
   ]
  },
  {
   "cell_type": "markdown",
   "metadata": {},
   "source": [
    "<div class=\"alert alert-info\">\n",
    "    <h1 align=\"center\">Machine Learning in Python</h1>\n",
    "    <h3 align=\"center\">Day 00: Introduction</h3>\n",
    "    <h4 align=\"center\"><a href=\"http://www.iran-machinelearning.ir\">Soheil Tehranipour</a></h5>\n",
    "</div>"
   ]
  },
  {
   "cell_type": "markdown",
   "metadata": {},
   "source": [
    "> You can follow me in :\n",
    "* [Linkedin](https://www.linkedin.com/in/soheiltehrani/). \n",
    "* [Instagram](https://www.instagram.com/soheiltehranipour/).\n",
    "* [Github](https://github.com/soheiltehranipour).\n",
    "* Website : www.iran-machinelearning.ir\n"
   ]
  },
  {
   "cell_type": "markdown",
   "metadata": {},
   "source": [
    "<img src='http://iran-datascience.ir/SoheilTP/Anaconda_Logo.png'>\n",
    "\n",
    "# 1. Jupyter notebook\n",
    "\n",
    "Based on Professionals in Data Science and Machine learning Field, I strongly recommend installing Python and Jupyter using the Anaconda Distribution too, which includes Python, the Jupyter Notebook, and other commonly used packages for scientific computing and data science.\n",
    "\n",
    "* First, download Anaconda. Downloading Anaconda’s latest Python 3 version is recommended.\n",
    "\n",
    "* Second, install the version of Anaconda which you downloaded, following the instructions on the download page.\n",
    "\n",
    "Congratulations, you have installed Jupyter Notebook! \n",
    "To run the notebook, run the following command in Linux:\n",
    "\n",
    "> jupyter notebook\n",
    "\n"
   ]
  },
  {
   "cell_type": "markdown",
   "metadata": {},
   "source": [
    "# 2. Machine Learning Workflow\n",
    "\n",
    "There are different ways in Machine learning as follows:\n",
    "\n",
    "* Define Problem\n",
    "* Specify Inputs & Outputs\n",
    "* Exploratory data analysis\n",
    "* Data Collection\n",
    "* Data Preprocessing\n",
    "* Data Cleaning\n",
    "* Visualization\n",
    "* Model Design, Training, and Offline Evaluation\n",
    "* Model Deployment, Online Evaluation, and Monitoring\n",
    "* Model Maintenance, Diagnosis, and Retraining\n",
    "\n",
    "\n",
    "<img src=\"http://iran-datascience.ir/SoheilTP/ML_Workflow.png\" />"
   ]
  },
  {
   "cell_type": "markdown",
   "metadata": {},
   "source": [
    "# 3. Packages Used in Machine Learning \n",
    "\n",
    "Most of Articles and books listed these libraries in python:\n",
    "\n",
    "* `Numpy` : \n",
    "NumPy is the fundamental package for scientific computing with Python.\n",
    "* `Pandas` : \n",
    "pandas is an open source, BSD-licensed library providing high-performance, easy-to-use data structures and data analysis tools for the Python programming language.\n",
    "* `Scipy`: \n",
    "SciPy (pronounced “Sigh Pie”) is a Python-based ecosystem of open-source software for mathematics, science, and engineering.\n",
    "* `Matplotlib`: \n",
    "Matplotlib is a Python 2D plotting library which produces publication quality figures in a variety of hardcopy formats and interactive environments across platforms.\n",
    "* `Seaborn`:\n",
    "Seaborn is a Python data visualization library based on matplotlib. It provides a high-level interface for drawing attractive and informative statistical graphics.\n",
    "* `Scikit learn`: \n",
    "Simple and efficient tools for data mining and data analysis and Machine learning.\n",
    "* `Tensorflow`:\n",
    "An open source machine learning and Deep learning framework for everyone made by Google.\n",
    "* `Keras`: \n",
    "Keras is a high-level neural networks API, written in Python and capable of running on top of TensorFlow, CNTK, or Theano.\n",
    "<img src='http://iran-datascience.ir/SoheilTP/Python_Libs.png'>"
   ]
  },
  {
   "cell_type": "markdown",
   "metadata": {},
   "source": [
    "# 4. Exploratory Data Analysis(EDA)\n",
    "\n",
    "Exploratory data analysis (EDA) is an approach to analyzing data sets to summarize their main characteristics, often with visual methods. \n",
    "\n",
    "<img src='http://iran-datascience.ir/SoheilTP/EDA.PNG'>"
   ]
  },
  {
   "cell_type": "markdown",
   "metadata": {},
   "source": [
    "#  5. Let's Make our hands dirty with some python\n",
    "\n",
    "### Let's play a game!\n",
    "\n",
    "The scenario is: The player should guess a number, and he/she should guess it right!\n"
   ]
  },
  {
   "cell_type": "code",
   "execution_count": 7,
   "metadata": {},
   "outputs": [
    {
     "name": "stdout",
     "output_type": "stream",
     "text": [
      "=== WELCOME ===\n",
      "guess a number: 42\n",
      "True\n"
     ]
    }
   ],
   "source": [
    "# guessing the number 42!\n",
    "x = 42\n",
    "\n",
    "# Introduction\n",
    "print('=== WELCOME ===')\n",
    "\n",
    "# get the guessed number\n",
    "guessed = input('guess a number: ')\n",
    "\n",
    "# check if the guess is right\n",
    "print(int(guessed) == x)\n"
   ]
  },
  {
   "cell_type": "markdown",
   "metadata": {},
   "source": [
    "<img src=\"http://iran-datascience.ir/SoheilTP/python.png\">"
   ]
  },
  {
   "cell_type": "markdown",
   "metadata": {},
   "source": [
    "## 5.2. Variables, Data Structures\n",
    "\n",
    "Variables could be of type `int, float, str, list, dict, ...`. (We will see `objects` later)"
   ]
  },
  {
   "cell_type": "code",
   "execution_count": 8,
   "metadata": {},
   "outputs": [
    {
     "name": "stdout",
     "output_type": "stream",
     "text": [
      "-10.82 , <class 'float'>\n",
      "-10 , <class 'int'>\n",
      "(1.9363366072701937e-16+3.1622776601683795j) , <class 'complex'>\n"
     ]
    }
   ],
   "source": [
    "# === integers and floats (and complex numbers) ===\n",
    "v_1 = -10.82\n",
    "print(v_1, ',',type(v_1))\n",
    "\n",
    "v_2 = int(v_1)\n",
    "print(v_2, ',',type(v_2))\n",
    "\n",
    "v_3 = v_2**0.5\n",
    "print(v_3, ',',type(v_3))"
   ]
  },
  {
   "cell_type": "markdown",
   "metadata": {},
   "source": [
    "## 5.3. Lists & tuples\n",
    "\n",
    "* python is zero-indexed.\n",
    "* tuples are just like lists... but immutable ones"
   ]
  },
  {
   "cell_type": "code",
   "execution_count": 9,
   "metadata": {},
   "outputs": [
    {
     "name": "stdout",
     "output_type": "stream",
     "text": [
      "[0, 1, 2, 3, 4, 5, 6, 7, 8] , <class 'list'>\n",
      "0 8\n",
      "[2, 3, 4, 5, 6]\n",
      "[0, 1, 2, 3, 4, 5, 6, 7, 8]\n",
      "[1, 3, 5]\n",
      "<class 'tuple'>\n",
      "[10, 2, 3]\n"
     ]
    },
    {
     "ename": "TypeError",
     "evalue": "'tuple' object does not support item assignment",
     "output_type": "error",
     "traceback": [
      "\u001b[1;31m---------------------------------------------------------------------------\u001b[0m",
      "\u001b[1;31mTypeError\u001b[0m                                 Traceback (most recent call last)",
      "\u001b[1;32m<ipython-input-9-bbe30924457c>\u001b[0m in \u001b[0;36m<module>\u001b[1;34m()\u001b[0m\n\u001b[0;32m     18\u001b[0m \u001b[0mv_1\u001b[0m\u001b[1;33m[\u001b[0m\u001b[1;36m0\u001b[0m\u001b[1;33m]\u001b[0m \u001b[1;33m=\u001b[0m \u001b[1;36m10\u001b[0m\u001b[1;33m\u001b[0m\u001b[0m\n\u001b[0;32m     19\u001b[0m \u001b[0mprint\u001b[0m\u001b[1;33m(\u001b[0m\u001b[0mv_1\u001b[0m\u001b[1;33m)\u001b[0m\u001b[1;33m\u001b[0m\u001b[0m\n\u001b[1;32m---> 20\u001b[1;33m \u001b[0mv_2\u001b[0m\u001b[1;33m[\u001b[0m\u001b[1;36m0\u001b[0m\u001b[1;33m]\u001b[0m \u001b[1;33m=\u001b[0m \u001b[1;36m10\u001b[0m\u001b[1;33m\u001b[0m\u001b[0m\n\u001b[0m",
      "\u001b[1;31mTypeError\u001b[0m: 'tuple' object does not support item assignment"
     ]
    }
   ],
   "source": [
    "# === lists & tuples ===\n",
    "v_1 = [0,1,2,3,4,5,6,7,8]\n",
    "print(v_1, ',',type(v_1))\n",
    "\n",
    "# python is zero-indexed\n",
    "print(v_1[0], v_1[-1])\n",
    "\n",
    "# index ranges are fun!\n",
    "print(v_1[2:7])\n",
    "print(v_1[:100])\n",
    "print(v_1[1:6:2])\n",
    "\n",
    "# tuples are just like lists... but immutable ones\n",
    "v_1 = [1,2,3]\n",
    "v_2 = (1,2,3)\n",
    "print(type(v_2))\n",
    "\n",
    "v_1[0] = 10\n",
    "print(v_1)\n",
    "v_2[0] = 10"
   ]
  },
  {
   "cell_type": "markdown",
   "metadata": {},
   "source": [
    "## 5.4. Strings\n"
   ]
  },
  {
   "cell_type": "code",
   "execution_count": 10,
   "metadata": {},
   "outputs": [
    {
     "name": "stdout",
     "output_type": "stream",
     "text": [
      "This is a long string variable\n",
      "but not long enough , <class 'str'>\n",
      "his is a long string variable\n",
      "but not long enoug\n",
      " he said :\"I'm fine\"\n"
     ]
    }
   ],
   "source": [
    "# === Strings ===\n",
    "v_1 = 'This is a long string variable\\nbut not long enough'\n",
    "print(v_1, ',',type(v_1))\n",
    "\n",
    "# indexing in strings are just like lists\n",
    "print(v_1[1:-1])\n",
    "\n",
    "x = \" he said :\\\"I'm fine\\\"\"\n",
    "print(x)"
   ]
  },
  {
   "cell_type": "markdown",
   "metadata": {},
   "source": [
    "**Mini-puzzle:** How to reverse a word in a string?"
   ]
  },
  {
   "cell_type": "markdown",
   "metadata": {},
   "source": [
    "<img src=\"http://iran-datascience.ir/SoheilTP/puzzle.jpg\">"
   ]
  },
  {
   "cell_type": "code",
   "execution_count": 11,
   "metadata": {},
   "outputs": [
    {
     "name": "stdout",
     "output_type": "stream",
     "text": [
      "nohtyP\n"
     ]
    }
   ],
   "source": [
    "word = 'Python'\n",
    "reversed_word = word[::-1]\n",
    "print(reversed_word)"
   ]
  },
  {
   "cell_type": "markdown",
   "metadata": {},
   "source": [
    "## 5.5. Dictionaries\n"
   ]
  },
  {
   "cell_type": "code",
   "execution_count": 7,
   "metadata": {},
   "outputs": [
    {
     "name": "stdout",
     "output_type": "stream",
     "text": [
      "{'name': 'Ali', 'age': 60} , <class 'dict'>\n",
      "Ali\n",
      "True\n"
     ]
    }
   ],
   "source": [
    "# === Dictionaries ===\n",
    "v_1 = {'name': 'Ali', 'age': 60}\n",
    "print(v_1, ',',type(v_1))\n",
    "\n",
    "# indexing dicts\n",
    "print(v_1['name'])\n",
    "print(v_1['age'] is 60)"
   ]
  },
  {
   "cell_type": "markdown",
   "metadata": {},
   "source": [
    "## 5.6. Booleans\n"
   ]
  },
  {
   "cell_type": "code",
   "execution_count": 13,
   "metadata": {},
   "outputs": [
    {
     "name": "stdout",
     "output_type": "stream",
     "text": [
      "False , <class 'bool'>\n",
      "True\n",
      "False\n",
      "True\n",
      "False\n"
     ]
    }
   ],
   "source": [
    "# booleans\n",
    "v_1 = 1 is 2\n",
    "print(v_1, ',',type(v_1))\n",
    "\n",
    "# every var-type has a boolean representation\n",
    "print(bool(1))\n",
    "print(bool(0))\n",
    "print(bool([1,2,3]))\n",
    "print(bool({}))"
   ]
  },
  {
   "cell_type": "markdown",
   "metadata": {},
   "source": [
    "##  5.7.OPERATORS\n",
    "\n",
    "- math operators are: `+, -, *, /, **, //, %` and all plus a `=`"
   ]
  },
  {
   "cell_type": "code",
   "execution_count": 14,
   "metadata": {},
   "outputs": [
    {
     "name": "stdout",
     "output_type": "stream",
     "text": [
      "1:  13.75\n",
      "2:  aStringOperatoraStringOperatoraStringOperator\n",
      "3:  ['x', 2, 'd', [1, 2, ('x', 'y')], 'x', 2, 'd', [1, 2, ('x', 'y')]]\n",
      "4:  ['x', 2, 'd', [1, 2, ('x', 'y')], 'x', 2, 'd', [1, 2, ('x', 'y')]]\n",
      "5-1:  1.5\n",
      "5-2:  1\n",
      "5-3:  1\n",
      "6:  13.75\n",
      "7:  False\n",
      "7:  True\n"
     ]
    }
   ],
   "source": [
    "int_1 = 3\n",
    "float_1 = 10.75\n",
    "str_1 = 'aStringOperator'\n",
    "list_1 = ['x', 2, 'd', [1, 2, ('x', 'y')]]\n",
    "dict_1 = {'a': [1,2,3], 'b': {'x':0}}\n",
    "bool_1 = True\n",
    "\n",
    "print('1: ', int_1 + float_1)\n",
    "print('2: ', str_1 * int_1)\n",
    "print('3: ', list_1 + list_1)\n",
    "print('4: ', list_1*2)\n",
    "print('5-1: ', int_1/2)\n",
    "print('5-2: ', int_1//2)\n",
    "print('5-3: ', int_1%2)\n",
    "\n",
    "int_1 += float_1\n",
    "print('6: ', int_1)\n",
    "\n",
    "bool_1 &= False\n",
    "print('7: ', bool_1)\n",
    "\n",
    "bool_1 |= True\n",
    "print('7: ', bool_1)"
   ]
  },
  {
   "cell_type": "markdown",
   "metadata": {},
   "source": [
    "- logical operators are: `==, !=, in, is, not, is not, <, >, <=, >=, and, or` "
   ]
  },
  {
   "cell_type": "code",
   "execution_count": 15,
   "metadata": {},
   "outputs": [
    {
     "name": "stdout",
     "output_type": "stream",
     "text": [
      "1:  True\n",
      "2:  False\n",
      "3:  True\n",
      "4:  True\n"
     ]
    }
   ],
   "source": [
    "print('1: ', 1 == True)\n",
    "print('2: ', 1 is True)\n",
    "print('3: ', ['x'] in ['y', 'x', ['x']])\n",
    "print('4: ', True or False is not False)"
   ]
  },
  {
   "cell_type": "markdown",
   "metadata": {},
   "source": [
    "---\n",
    "---\n",
    "\n",
    "## 5.8. Loops & Conditionals\n",
    "\n",
    "### Loops\n",
    "\n",
    "We can go forward until we're told to stop, or we can go for `n` specific steps:"
   ]
  },
  {
   "cell_type": "code",
   "execution_count": 16,
   "metadata": {},
   "outputs": [
    {
     "name": "stdout",
     "output_type": "stream",
     "text": [
      "i is 0\n",
      "i is 1\n",
      "i is 2\n",
      "i is 3\n",
      "j is 0\n",
      "j is 1\n",
      "j is 2\n",
      "j is 3\n",
      "j is 4\n"
     ]
    }
   ],
   "source": [
    "# Go unless the statement is False\n",
    "i = 0\n",
    "while i < 4:\n",
    "    print('i is {}'.format(i))\n",
    "    i += 1\n",
    "    \n",
    "\n",
    "# Go for n steps\n",
    "for j in range(5):\n",
    "    print('j is {}'.format(j))"
   ]
  },
  {
   "cell_type": "markdown",
   "metadata": {},
   "source": [
    "### A tricky python code\n",
    "\n",
    "`Comprehensions` can be used as a compact form of `if` statement, when `if` is used to create a `list` or `tuple` or `dictionary` from an iterable"
   ]
  },
  {
   "cell_type": "code",
   "execution_count": 17,
   "metadata": {},
   "outputs": [
    {
     "name": "stdout",
     "output_type": "stream",
     "text": [
      "True\n",
      "[0, 1, 4, 9]\n",
      "{'0': 0, '1': 1, '2': 2, '3': 3, '4': 4}\n"
     ]
    }
   ],
   "source": [
    "list_1 = []\n",
    "for i in range(4):\n",
    "    list_1.append(i**2)\n",
    "\n",
    "list_2 = [i**2 for i in range(4)]\n",
    "\n",
    "print(list_1 == list_2)\n",
    "print(list_1)\n",
    "\n",
    "dict_1 = {str(i):i for i in range(5)}\n",
    "print(dict_1)"
   ]
  },
  {
   "cell_type": "markdown",
   "metadata": {},
   "source": [
    "### Conditionals\n",
    "\n",
    "There is only `if,elif,else` in python, there is no `switch, case` statement."
   ]
  },
  {
   "cell_type": "code",
   "execution_count": 1,
   "metadata": {},
   "outputs": [
    {
     "name": "stdout",
     "output_type": "stream",
     "text": [
      "enter a number: 12\n",
      "the number 12 is divisible by 3\n"
     ]
    }
   ],
   "source": [
    "number = int(input('enter a number: '))\n",
    "if number % 3 == 0:\n",
    "    print('the number {} is divisible by 3'.format(number))\n",
    "elif number % 2 == 0:\n",
    "    print('the number {} is even'.format(number))\n",
    "else:\n",
    "    print('the number {} is divisible by neither 2 nor 3'.format(number))"
   ]
  },
  {
   "cell_type": "markdown",
   "metadata": {},
   "source": [
    "<img src=\"http://iran-datascience.ir/SoheilTP/pip.png\">"
   ]
  },
  {
   "cell_type": "markdown",
   "metadata": {},
   "source": [
    "# 6. Fucntion, Class and `pip`\n",
    "\n",
    "Modular Programming means:\n",
    "\n",
    "- Several smaller problems vs. A big problem\n",
    "- Nested vs. Flat\n",
    "- Flexibility, gradual code development\n",
    "\n",
    "Let's start from the beginning:\n",
    "\n",
    "\n",
    "## 6.1.Functions\n",
    "\n",
    "Functions are the heart of the modular programming. Each function has multiple inputs, and a single output:"
   ]
  },
  {
   "cell_type": "code",
   "execution_count": 2,
   "metadata": {},
   "outputs": [
    {
     "name": "stdout",
     "output_type": "stream",
     "text": [
      "sample\n",
      "elpmas\n"
     ]
    }
   ],
   "source": [
    "def word_reverse(k):\n",
    "    word = k.lower()\n",
    "    print(word)\n",
    "    return word[::-1]\n",
    "\n",
    "print(word_reverse('SamPLe'))"
   ]
  },
  {
   "cell_type": "code",
   "execution_count": 3,
   "metadata": {},
   "outputs": [
    {
     "name": "stdout",
     "output_type": "stream",
     "text": [
      "new message: hi\n"
     ]
    },
    {
     "ename": "ValueError",
     "evalue": "could not convert string to float: 'hi'",
     "output_type": "error",
     "traceback": [
      "\u001b[1;31m---------------------------------------------------------------------------\u001b[0m",
      "\u001b[1;31mValueError\u001b[0m                                Traceback (most recent call last)",
      "\u001b[1;32m<ipython-input-3-af7b5301e5f7>\u001b[0m in \u001b[0;36m<module>\u001b[1;34m()\u001b[0m\n\u001b[0;32m     10\u001b[0m \u001b[1;33m\u001b[0m\u001b[0m\n\u001b[0;32m     11\u001b[0m \u001b[1;31m# write a script that gets user input and calc math_func\u001b[0m\u001b[1;33m\u001b[0m\u001b[1;33m\u001b[0m\u001b[0m\n\u001b[1;32m---> 12\u001b[1;33m \u001b[0mnumber\u001b[0m \u001b[1;33m=\u001b[0m \u001b[0mget_input\u001b[0m\u001b[1;33m(\u001b[0m\u001b[1;34m'asd'\u001b[0m\u001b[1;33m)\u001b[0m\u001b[1;33m\u001b[0m\u001b[0m\n\u001b[0m\u001b[0;32m     13\u001b[0m \u001b[0mprint\u001b[0m\u001b[1;33m(\u001b[0m\u001b[0mmath_func\u001b[0m\u001b[1;33m(\u001b[0m\u001b[0mnumber\u001b[0m\u001b[1;33m)\u001b[0m\u001b[1;33m)\u001b[0m\u001b[1;33m\u001b[0m\u001b[0m\n",
      "\u001b[1;32m<ipython-input-3-af7b5301e5f7>\u001b[0m in \u001b[0;36mget_input\u001b[1;34m(msg)\u001b[0m\n\u001b[0;32m      1\u001b[0m \u001b[1;31m# define a function to get user input and turn into int\u001b[0m\u001b[1;33m\u001b[0m\u001b[1;33m\u001b[0m\u001b[0m\n\u001b[0;32m      2\u001b[0m \u001b[1;32mdef\u001b[0m \u001b[0mget_input\u001b[0m\u001b[1;33m(\u001b[0m\u001b[0mmsg\u001b[0m\u001b[1;33m)\u001b[0m\u001b[1;33m:\u001b[0m\u001b[1;33m\u001b[0m\u001b[0m\n\u001b[1;32m----> 3\u001b[1;33m     \u001b[0mnumber\u001b[0m \u001b[1;33m=\u001b[0m \u001b[0mfloat\u001b[0m\u001b[1;33m(\u001b[0m\u001b[0minput\u001b[0m\u001b[1;33m(\u001b[0m\u001b[1;34m'new message: '\u001b[0m\u001b[1;33m)\u001b[0m\u001b[1;33m)\u001b[0m\u001b[1;33m\u001b[0m\u001b[0m\n\u001b[0m\u001b[0;32m      4\u001b[0m     \u001b[1;32mreturn\u001b[0m \u001b[0mnumber\u001b[0m\u001b[1;33m\u001b[0m\u001b[0m\n\u001b[0;32m      5\u001b[0m \u001b[1;33m\u001b[0m\u001b[0m\n",
      "\u001b[1;31mValueError\u001b[0m: could not convert string to float: 'hi'"
     ]
    }
   ],
   "source": [
    "# define a function to get user input and turn into int\n",
    "def get_input(msg):\n",
    "    number = float(input('new message: '))\n",
    "    return number\n",
    "\n",
    "# to calculate x**2 + 1\n",
    "def math_func(x):\n",
    "    return x**2 + 1\n",
    "\n",
    "\n",
    "# write a script that gets user input and calc math_func\n",
    "number = get_input('asd')\n",
    "print(math_func(number))"
   ]
  },
  {
   "cell_type": "markdown",
   "metadata": {},
   "source": [
    "### Python functions are amazing!\n",
    "\n",
    "Let's see two interesting characterstics of functions:"
   ]
  },
  {
   "cell_type": "code",
   "execution_count": 4,
   "metadata": {},
   "outputs": [
    {
     "name": "stdout",
     "output_type": "stream",
     "text": [
      "9\n",
      "=== Fibo ===\n",
      "1\n",
      "1\n",
      "2\n",
      "3\n",
      "5\n"
     ]
    }
   ],
   "source": [
    "# take functions as arguments\n",
    "def sum_(x,y):\n",
    "    return x+y\n",
    "\n",
    "def printer(operator, x, y):\n",
    "    return operator(x, y)\n",
    "\n",
    "print(\n",
    "    printer(sum_, 3, 6)\n",
    ")\n",
    "\n",
    "# functions could be called recursively\n",
    "def fibo(x):\n",
    "    if x <= 1:\n",
    "        return x\n",
    "    else:\n",
    "        return fibo(x-1) + fibo(x-2)\n",
    "\n",
    "# print first n fibo numbers\n",
    "print('=== Fibo ===')\n",
    "for i in range(1,6):\n",
    "    print(fibo(i))"
   ]
  },
  {
   "cell_type": "markdown",
   "metadata": {},
   "source": [
    "## 6.2. Classes\n",
    "\n",
    "There is another structure defined in python (and in almost every GPPL). It is the foundation of Object Oriented Programming\n",
    "\n",
    "- **Classes are a manifestation to define an object**\n",
    "\n",
    "We have some creatures called dog. A dog has color, size, origin. A dog eats, barks, sleeps and runs\n",
    "```python\n",
    "class Dog: ...\n",
    "```\n",
    "\n",
    "Now Poppie is a dog. He is brown (has color), is big (size), and is buldog (origin). Poppie can eat, bark, sleep and run. (because he is a dog!)\n",
    "\n",
    "```Python\n",
    "```\n",
    "\n",
    "We also have Lana, Bobby, Max and they are all dogs.\n",
    "\n",
    "Instead of defining an entitiy for each dog that represent him/her, we create a class called dog, then tell Python that Poppie is a dog, Lana is a dog, ...\n",
    "\n",
    "```python\n",
    "Poppie = Dog(color='brown', size=3)\n",
    "print(Poppie.color)\n",
    "print(Poppie.size)\n",
    "Poppie.bark()\n",
    "```\n",
    "\n",
    "- Classes have 2 main parts: methods and attributes\n",
    "    - attributes are assigned values to a class object. in Dogs example, size and color are attributes\n",
    "    - methods are functions of a class object. They can have return statement, or just change an object attribute.\n",
    "\n",
    "Now Let's define a Dog class:"
   ]
  },
  {
   "cell_type": "code",
   "execution_count": 5,
   "metadata": {},
   "outputs": [
    {
     "name": "stdout",
     "output_type": "stream",
     "text": [
      "a Dog is born!\n",
      "Bark!... Bark!... Bark!... Bark!... Bark!... \n",
      " it was a delicious bone\n",
      "Bark!... Bark!... \n",
      "2018\n"
     ]
    }
   ],
   "source": [
    "# define by class statement\n",
    "class Dog:\n",
    "    # define the init process: init executes immediately after an object is created from the class\n",
    "    # initiation arguments are actually the arguments of the init function\n",
    "    def __init__(self,\n",
    "                 color='black',\n",
    "                 size=2):\n",
    "        # 'black' and '2' are just defult values\n",
    "        # in class scope, self refers to any object that is created from the class\n",
    "        self.color = color\n",
    "        self.size = size\n",
    "        \n",
    "        # You can do anything in init function\n",
    "        print('a Dog is born!')\n",
    "        self.birthyear = 2018\n",
    "    \n",
    "    # now a bark method.\n",
    "    def bark(self, number=None):\n",
    "        print('Bark!... '*number)\n",
    "    \n",
    "    def eat(self, what_to_eat='bone'):\n",
    "        print(' it was a delicious',what_to_eat)\n",
    "        self.bark(number=2)\n",
    "        print(self.birthyear)\n",
    "\n",
    "\n",
    "# create a dog called popp. he barks five times\n",
    "popp = Dog()\n",
    "popp.bark(number=5)\n",
    "popp.eat()\n"
   ]
  },
  {
   "cell_type": "markdown",
   "metadata": {},
   "source": [
    "### What is `self`?\n",
    "\n",
    "as explained in the code comment, when trying to have access to an attribute or a method of the class object \"inside\" class, you can refer to the object by `self`.\n",
    "- `self` should explicitely passed to any method in the class scope\n",
    "- `python` expects that first argument of any method is `self`. if not, an error is raised\n",
    "- If a method does not need `self` methods or attributes, it is called a static method and should be declared in the code, so python interpreter would not look for `self`."
   ]
  },
  {
   "cell_type": "code",
   "execution_count": 6,
   "metadata": {
    "scrolled": true
   },
   "outputs": [
    {
     "name": "stdout",
     "output_type": "stream",
     "text": [
      "a Dog is born!\n",
      "hello... my name is Joey, and I am a white dog!\n",
      "Bark!... Bark!... \n",
      "Bark!... \n"
     ]
    }
   ],
   "source": [
    "class Dog:\n",
    "    def __init__(self,\n",
    "                 name='Dog',\n",
    "                 color='black',\n",
    "                 size=2):\n",
    "        self.color = color\n",
    "        self.size = size\n",
    "        self.name = name\n",
    "        print('a Dog is born!')\n",
    "        self.birthyear = 2018\n",
    "    \n",
    "    @staticmethod\n",
    "    def bark(number=None):\n",
    "        print('Bark!... '*number)\n",
    "    \n",
    "    def introduce(self):\n",
    "        print('hello... my name is {name}, and I am a {color} dog!'.format(\n",
    "            name=self.name, color=self.color\n",
    "        )\n",
    "        )\n",
    "        self.bark(number=2)\n",
    "\n",
    "joey = Dog(\n",
    "    name='Joey',\n",
    "    color='white'\n",
    ")\n",
    "\n",
    "joey.introduce()\n",
    "joey.bark(number=1)"
   ]
  },
  {
   "cell_type": "markdown",
   "metadata": {},
   "source": [
    "<img src=\"http://iran-datascience.ir/SoheilTP/end.png\">"
   ]
  }
 ],
 "metadata": {
  "kernelspec": {
   "display_name": "Python 3",
   "language": "python",
   "name": "python3"
  },
  "language_info": {
   "codemirror_mode": {
    "name": "ipython",
    "version": 3
   },
   "file_extension": ".py",
   "mimetype": "text/x-python",
   "name": "python",
   "nbconvert_exporter": "python",
   "pygments_lexer": "ipython3",
   "version": "3.6.5"
  }
 },
 "nbformat": 4,
 "nbformat_minor": 2
}
